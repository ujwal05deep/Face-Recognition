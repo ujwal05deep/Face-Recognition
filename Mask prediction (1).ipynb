{
 "cells": [
  {
   "cell_type": "code",
   "execution_count": 1,
   "id": "0bcdddef",
   "metadata": {},
   "outputs": [],
   "source": [
    "#import all necessary libraries\n",
    "\n",
    "import numpy as np\n",
    "from tensorflow.keras.preprocessing import image\n",
    "from tensorflow.keras.models import load_model"
   ]
  },
  {
   "cell_type": "code",
   "execution_count": 2,
   "id": "2e720097",
   "metadata": {},
   "outputs": [],
   "source": [
    "model = load_model(\"mask_detection.h5\")  #load the trained model"
   ]
  },
  {
   "cell_type": "code",
   "execution_count": 4,
   "id": "41ef7888",
   "metadata": {},
   "outputs": [],
   "source": [
    "def predict_image(img_path):\n",
    "  img = image.load_img(img_path, target_size=(180, 180))  #load image\n",
    "  img_array = image.img_to_array(img)                     #convert image into array\n",
    "  img_batch = np.expand_dims(img_array, axis=0)     #convert image array to batch with single image size as(1,180,180,3)\n",
    "  result = model.predict(img_batch)\n",
    "  if result >= 0.5:          #its binary classification so threshold value is 0.5                             \n",
    "    return \"Without Mask\"     #if condition matches returns without mask\n",
    "  else:\n",
    "    return \"With Mask\"         #if condition fails returns with mask"
   ]
  },
  {
   "cell_type": "code",
   "execution_count": 5,
   "id": "99515d28",
   "metadata": {},
   "outputs": [
    {
     "name": "stdout",
     "output_type": "stream",
     "text": [
      "1/1 [==============================] - 2s 2s/step\n"
     ]
    },
    {
     "data": {
      "text/plain": [
       "'With Mask'"
      ]
     },
     "execution_count": 5,
     "metadata": {},
     "output_type": "execute_result"
    }
   ],
   "source": [
    "predict_image(\"images3_mask.jpg\")             #prediction on external mask image"
   ]
  },
  {
   "cell_type": "code",
   "execution_count": 6,
   "id": "e254d046",
   "metadata": {},
   "outputs": [
    {
     "name": "stdout",
     "output_type": "stream",
     "text": [
      "1/1 [==============================] - 0s 25ms/step\n"
     ]
    },
    {
     "data": {
      "text/plain": [
       "'Without Mask'"
      ]
     },
     "execution_count": 6,
     "metadata": {},
     "output_type": "execute_result"
    }
   ],
   "source": [
    "predict_image(\"images3_unmask.jpg\")            #prediction on external unmask image"
   ]
  },
  {
   "cell_type": "code",
   "execution_count": 7,
   "id": "6df2547a",
   "metadata": {},
   "outputs": [],
   "source": [
    "import cv2     #for images and videos import cv2 library"
   ]
  },
  {
   "cell_type": "code",
   "execution_count": 14,
   "id": "c9a21f64",
   "metadata": {},
   "outputs": [],
   "source": [
    "\n",
    "cap = cv2.VideoCapture(0)  #capture image from webcam and store into cap variable\n",
    "\n",
    "\n",
    "while True:\n",
    "\n",
    "    flag, frame = cap.read()  #read image \n",
    "    \n",
    "    frame = cv2.flip(frame,1)      #images are mirrored thats why flip it to get original\n",
    "\n",
    "    cv2.imshow('frame',frame)      # display image with imshow()\n",
    "    cv2.imwrite(\"ujwala_unmask1.jpg\",frame)    #save /write image\n",
    "\n",
    "    if cv2.waitKey(1) & 0xFF == ord('q'):          #wtkey 1-> wt frame for 1ms\n",
    "        break\n",
    "    \n",
    "\n",
    "\n",
    "cap.release()       # Release resources if job is finished\n",
    "\n",
    "cv2.destroyAllWindows()   #destroy all windows"
   ]
  },
  {
   "cell_type": "code",
   "execution_count": null,
   "id": "3c70124f",
   "metadata": {},
   "outputs": [],
   "source": [
    "cap = cv2.VideoCapture(0)  #capture image from webcam and store into cap variable\n",
    "\n",
    "\n",
    "while True:\n",
    "\n",
    "    flag, frame = cap.read()  #read image \n",
    "    \n",
    "    frame = cv2.flip(frame,1)      #images are mirrored thats why flip it to get original\n",
    "\n",
    "    cv2.imshow('frame',frame)      # display image with imshow()\n",
    "    cv2.imwrite(\"ujwala_mask1.jpg\",frame)    #save /write image\n",
    "\n",
    "    if cv2.waitKey(1) & 0xFF == ord('q'):          #wtkey 1-> wt frame for 1ms\n",
    "        break\n",
    "    \n",
    "\n",
    "\n",
    "cap.release()       # Release resources if job is finished\n",
    "\n",
    "cv2.destroyAllWindows()   #destroy all windows"
   ]
  },
  {
   "cell_type": "code",
   "execution_count": 18,
   "id": "4b3dca06",
   "metadata": {},
   "outputs": [
    {
     "name": "stdout",
     "output_type": "stream",
     "text": [
      "1/1 [==============================] - 0s 24ms/step\n"
     ]
    },
    {
     "data": {
      "text/plain": [
       "'With Mask'"
      ]
     },
     "execution_count": 18,
     "metadata": {},
     "output_type": "execute_result"
    }
   ],
   "source": [
    "predict_image(\"ujwala_mask1.jpg\")   #predict the trained and saved model with captured image"
   ]
  },
  {
   "cell_type": "code",
   "execution_count": 19,
   "id": "3463a7e8",
   "metadata": {},
   "outputs": [
    {
     "name": "stdout",
     "output_type": "stream",
     "text": [
      "1/1 [==============================] - 0s 29ms/step\n"
     ]
    },
    {
     "data": {
      "text/plain": [
       "'Without Mask'"
      ]
     },
     "execution_count": 19,
     "metadata": {},
     "output_type": "execute_result"
    }
   ],
   "source": [
    "predict_image(\"ujwala_unmask1.jpg\")   #predict the trained and saved model with captured image"
   ]
  },
  {
   "cell_type": "code",
   "execution_count": null,
   "id": "5104ab0d",
   "metadata": {},
   "outputs": [],
   "source": []
  }
 ],
 "metadata": {
  "kernelspec": {
   "display_name": "Python 3 (ipykernel)",
   "language": "python",
   "name": "python3"
  },
  "language_info": {
   "codemirror_mode": {
    "name": "ipython",
    "version": 3
   },
   "file_extension": ".py",
   "mimetype": "text/x-python",
   "name": "python",
   "nbconvert_exporter": "python",
   "pygments_lexer": "ipython3",
   "version": "3.9.13"
  }
 },
 "nbformat": 4,
 "nbformat_minor": 5
}
